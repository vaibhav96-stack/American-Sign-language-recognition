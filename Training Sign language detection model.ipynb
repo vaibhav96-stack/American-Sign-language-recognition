{
  "nbformat": 4,
  "nbformat_minor": 0,
  "metadata": {
    "colab": {
      "name": "Final (2).ipynb",
      "provenance": [],
      "collapsed_sections": []
    },
    "kernelspec": {
      "name": "python3",
      "display_name": "Python 3"
    },
    "language_info": {
      "name": "python"
    },
    "accelerator": "GPU"
  },
  "cells": [
    {
      "cell_type": "code",
      "metadata": {
        "id": "k0v6qGzrPhuJ",
        "colab": {
          "base_uri": "https://localhost:8080/"
        },
        "outputId": "4c93ed09-b3e1-4ac0-b19b-ab7382add821"
      },
      "source": [
        "from google.colab import drive\n",
        "\n",
        "drive.mount('/content/gdrive')\n",
        "\n",
        "#Mount drive"
      ],
      "execution_count": null,
      "outputs": [
        {
          "output_type": "stream",
          "name": "stdout",
          "text": [
            "Mounted at /content/gdrive\n"
          ]
        }
      ]
    },
    {
      "cell_type": "code",
      "metadata": {
        "id": "74dE4LHxcv0A"
      },
      "source": [
        "/content"
      ],
      "execution_count": null,
      "outputs": []
    },
    {
      "cell_type": "code",
      "metadata": {
        "colab": {
          "base_uri": "https://localhost:8080/"
        },
        "id": "_MmDpYmkQ4zX",
        "outputId": "33d9b0a8-b865-41c1-83c7-ff03fa6bef69"
      },
      "source": [
        "!git clone 'https://github.com/shadabsk/Sign-Language-Recognition-Using-Hand-Gestures-Keras-PyQT5-OpenCV'\n",
        "#Clone Data"
      ],
      "execution_count": null,
      "outputs": [
        {
          "output_type": "stream",
          "text": [
            "Cloning into 'Sign-Language-Recognition-Using-Hand-Gestures-Keras-PyQT5-OpenCV'...\n",
            "remote: Enumerating objects: 52679, done.\u001b[K\n",
            "remote: Counting objects: 100% (52088/52088), done.\u001b[K\n",
            "remote: Compressing objects: 100% (52080/52080), done.\u001b[K\n",
            "remote: Total 52679 (delta 9), reused 52080 (delta 8), pack-reused 591\u001b[K\n",
            "Receiving objects: 100% (52679/52679), 86.34 MiB | 24.02 MiB/s, done.\n",
            "Resolving deltas: 100% (184/184), done.\n",
            "Checking out files: 100% (52086/52086), done.\n"
          ],
          "name": "stdout"
        }
      ]
    },
    {
      "cell_type": "code",
      "metadata": {
        "id": "NfJrv9-5Q42W"
      },
      "source": [
        "import matplotlib.pyplot as plt\n",
        "import seaborn as sns\n",
        "\n",
        "import keras\n",
        "from keras.models import Sequential\n",
        "from keras.layers import Dense, Conv2D , MaxPooling2D , Flatten , Dropout \n",
        "from keras.preprocessing.image import ImageDataGenerator\n",
        "from keras.optimizers import Adam\n",
        "from keras.models import Sequential\n",
        "from keras.layers import Convolution2D\n",
        "from keras.layers import MaxPooling2D\n",
        "from keras.layers import Flatten\n",
        "from keras.layers import Dense, Dropout\n",
        "from keras.optimizers import Adam\n",
        "\n",
        "from sklearn.metrics import classification_report,confusion_matrix\n",
        "from keras.layers import Conv2D, MaxPool2D, Flatten, Dense, InputLayer, BatchNormalization, Dropout\n",
        "\n",
        "import tensorflow as tf\n",
        "\n",
        "import cv2\n",
        "import os\n",
        "\n",
        "import numpy as np\n"
      ],
      "execution_count": null,
      "outputs": []
    },
    {
      "cell_type": "code",
      "metadata": {
        "id": "xQLNA9_tQ44-"
      },
      "source": [
        "DATADIRTRAIN=\"/content/Sign-Language-Recognition-Using-Hand-Gestures-Keras-PyQT5-OpenCV/Source Code/Dataset/training_set\"\n",
        "DATADIRVALID='/content/Sign-Language-Recognition-Using-Hand-Gestures-Keras-PyQT5-OpenCV/Source Code/Dataset/test_set'\n",
        "#Dataset path"
      ],
      "execution_count": null,
      "outputs": []
    },
    {
      "cell_type": "code",
      "metadata": {
        "id": "x9Y0P4jmQ47m"
      },
      "source": [
        "train=ImageDataGenerator(rescale=1/255,shear_range=0.2,\n",
        "        zoom_range=0.2,\n",
        "        horizontal_flip=True)\n",
        "valid=ImageDataGenerator(rescale=1/255)\n",
        "\n",
        "#ImageDataGenerator is a technique that can be used to artificially expand the size of a training dataset by creating modified versions of images in the dataset.\n",
        "#Rescale 1./255 is to transform every pixel value from range [0,255] -> [0,1].\n",
        "#Rescale->Data normalization is an important step which ensures that each input parameter (pixel, in this case) has a similar data distribution. \n",
        "#Rescale->This makes convergence faster while training the network\n",
        "#shear_range is for randomly applying shearing transformations. \n",
        "#zoom_range is for randomly zooming inside pictures.\n",
        "# horizontal_flip is for randomly flipping half of the images horizontally"
      ],
      "execution_count": null,
      "outputs": []
    },
    {
      "cell_type": "code",
      "metadata": {
        "colab": {
          "base_uri": "https://localhost:8080/"
        },
        "id": "pH0zWXNwQ4-H",
        "outputId": "347939cb-9bb0-4e2d-9560-45962912c34e"
      },
      "source": [
        "train= train.flow_from_directory(\n",
        "       DATADIRTRAIN ,\n",
        "        target_size=(64, 64),\n",
        "        batch_size=32,\n",
        "        class_mode='categorical')\n",
        "\n",
        "valid = valid.flow_from_directory(\n",
        "        DATADIRVALID,\n",
        "        target_size=(64, 64),\n",
        "        batch_size=32,\n",
        "        class_mode='categorical')\n",
        "#batch_size: No. of images to be yielded from the generator per batch."
      ],
      "execution_count": null,
      "outputs": [
        {
          "output_type": "stream",
          "text": [
            "Found 45500 images belonging to 26 classes.\n",
            "Found 6500 images belonging to 26 classes.\n"
          ],
          "name": "stdout"
        }
      ]
    },
    {
      "cell_type": "code",
      "metadata": {
        "colab": {
          "base_uri": "https://localhost:8080/"
        },
        "id": "r9oJXDwfQ5A2",
        "outputId": "e15d72e8-b36a-4d97-ec57-d603044b41d9"
      },
      "source": [
        "train.class_indices"
      ],
      "execution_count": null,
      "outputs": [
        {
          "output_type": "execute_result",
          "data": {
            "text/plain": [
              "{'A': 0,\n",
              " 'B': 1,\n",
              " 'C': 2,\n",
              " 'D': 3,\n",
              " 'E': 4,\n",
              " 'F': 5,\n",
              " 'G': 6,\n",
              " 'H': 7,\n",
              " 'I': 8,\n",
              " 'J': 9,\n",
              " 'K': 10,\n",
              " 'L': 11,\n",
              " 'M': 12,\n",
              " 'N': 13,\n",
              " 'O': 14,\n",
              " 'P': 15,\n",
              " 'Q': 16,\n",
              " 'R': 17,\n",
              " 'S': 18,\n",
              " 'T': 19,\n",
              " 'U': 20,\n",
              " 'V': 21,\n",
              " 'W': 22,\n",
              " 'X': 23,\n",
              " 'Y': 24,\n",
              " 'Z': 25}"
            ]
          },
          "metadata": {
            "tags": []
          },
          "execution_count": 10
        }
      ]
    },
    {
      "cell_type": "code",
      "metadata": {
        "colab": {
          "base_uri": "https://localhost:8080/",
          "height": 606
        },
        "id": "ujwENFlFQ5Df",
        "outputId": "fefebccc-af68-4802-f8cf-d66b2b97906b"
      },
      "source": [
        "from keras.models import Sequential\n",
        "from keras.layers import Conv2D, MaxPooling2D, Activation, Dense, Flatten\n",
        "model = Sequential()\n",
        "\n",
        "model.add(Conv2D(32, (5, 5), input_shape=(64, 64, 3)))\n",
        "model.add(Activation('relu'))\n",
        "model.add(MaxPooling2D((2, 2)))\n",
        "\n",
        "model.add(Conv2D(64, (3, 3)))\n",
        "model.add(Activation('relu'))\n",
        "model.add(MaxPooling2D((2, 2)))\n",
        "\n",
        "model.add(Conv2D(64, (3, 3)))\n",
        "model.add(Activation('relu'))\n",
        "model.add(MaxPooling2D((2, 2)))\n",
        "\n",
        "model.add(Flatten())\n",
        "\n",
        "model.add(Dense(128, activation='relu'))\n",
        "\n",
        "model.add(Dense(26, activation='softmax'))\n",
        "\n",
        "model.summary()\n",
        "#Convolution layer − It is the primary building block and perform computational tasks based on convolution function.\n",
        "#Pooling layer − It is arranged next to convolution layer and is used to reduce the size of inputs by removing unnecessary information so computation can be performed faster.\n",
        "#Fully connected layer − It is arranged to next to series of convolution and pooling layer and classify input into various categories.\n",
        "\n",
        "'''\n",
        "The dilation_rate parameter of the Conv2D class is a 2-tuple of integers, which controls the dilation rate for dilated convolution.\n",
        "The Dilated Convolution is the basic convolution applied to the input volume with defined gaps.\n",
        "We use this parameter when working with higher resolution images and fine-grained details are important\n",
        "'''"
      ],
      "execution_count": null,
      "outputs": [
        {
          "output_type": "stream",
          "text": [
            "Model: \"sequential\"\n",
            "_________________________________________________________________\n",
            "Layer (type)                 Output Shape              Param #   \n",
            "=================================================================\n",
            "conv2d (Conv2D)              (None, 60, 60, 32)        2432      \n",
            "_________________________________________________________________\n",
            "activation (Activation)      (None, 60, 60, 32)        0         \n",
            "_________________________________________________________________\n",
            "max_pooling2d (MaxPooling2D) (None, 30, 30, 32)        0         \n",
            "_________________________________________________________________\n",
            "conv2d_1 (Conv2D)            (None, 28, 28, 64)        18496     \n",
            "_________________________________________________________________\n",
            "activation_1 (Activation)    (None, 28, 28, 64)        0         \n",
            "_________________________________________________________________\n",
            "max_pooling2d_1 (MaxPooling2 (None, 14, 14, 64)        0         \n",
            "_________________________________________________________________\n",
            "conv2d_2 (Conv2D)            (None, 12, 12, 64)        36928     \n",
            "_________________________________________________________________\n",
            "activation_2 (Activation)    (None, 12, 12, 64)        0         \n",
            "_________________________________________________________________\n",
            "max_pooling2d_2 (MaxPooling2 (None, 6, 6, 64)          0         \n",
            "_________________________________________________________________\n",
            "flatten (Flatten)            (None, 2304)              0         \n",
            "_________________________________________________________________\n",
            "dense (Dense)                (None, 128)               295040    \n",
            "_________________________________________________________________\n",
            "dense_1 (Dense)              (None, 26)                3354      \n",
            "=================================================================\n",
            "Total params: 356,250\n",
            "Trainable params: 356,250\n",
            "Non-trainable params: 0\n",
            "_________________________________________________________________\n"
          ],
          "name": "stdout"
        },
        {
          "output_type": "execute_result",
          "data": {
            "application/vnd.google.colaboratory.intrinsic+json": {
              "type": "string"
            },
            "text/plain": [
              "'\\nThe dilation_rate parameter of the Conv2D class is a 2-tuple of integers, which controls the dilation rate for dilated convolution.\\nThe Dilated Convolution is the basic convolution applied to the input volume with defined gaps.\\nWe use this parameter when working with higher resolution images and fine-grained details are important\\n'"
            ]
          },
          "metadata": {
            "tags": []
          },
          "execution_count": 11
        }
      ]
    },
    {
      "cell_type": "code",
      "metadata": {
        "id": "zLsslqNHQ5GH"
      },
      "source": [
        "from keras import optimizers\n",
        "model.compile(optimizer='adam',\n",
        "              loss='categorical_crossentropy',\n",
        "              metrics=['accuracy'])"
      ],
      "execution_count": null,
      "outputs": []
    },
    {
      "cell_type": "code",
      "metadata": {
        "id": "Gdx2-_p0Zmwj"
      },
      "source": [
        "from tensorflow.keras.callbacks import EarlyStopping\n",
        "early_stop = EarlyStopping(monitor='val_loss',patience=7)\n",
        "#Early stopping is a method that allows you to specify an arbitrary large number of training epochs and stop training once the model performance stops improving"
      ],
      "execution_count": null,
      "outputs": []
    },
    {
      "cell_type": "code",
      "metadata": {
        "colab": {
          "base_uri": "https://localhost:8080/"
        },
        "id": "cZeuGJGSQ5I2",
        "outputId": "1195b910-0c10-4bff-b207-2aa05c2295e5"
      },
      "source": [
        "model.fit(train,epochs=40,batch_size=32, validation_data = valid,callbacks=[early_stop])\n",
        "#One Epoch is when an ENTIRE dataset is passed forward and backward through the neural network only ONCE"
      ],
      "execution_count": null,
      "outputs": [
        {
          "output_type": "stream",
          "text": [
            "Epoch 1/40\n",
            "1422/1422 [==============================] - 57s 40ms/step - loss: 0.0108 - accuracy: 0.9968 - val_loss: 0.1422 - val_accuracy: 0.9889\n",
            "Epoch 2/40\n",
            "1422/1422 [==============================] - 57s 40ms/step - loss: 0.0089 - accuracy: 0.9977 - val_loss: 0.1230 - val_accuracy: 0.9849\n",
            "Epoch 3/40\n",
            "1422/1422 [==============================] - 57s 40ms/step - loss: 0.0091 - accuracy: 0.9974 - val_loss: 0.0950 - val_accuracy: 0.9832\n",
            "Epoch 4/40\n",
            "1422/1422 [==============================] - 57s 40ms/step - loss: 0.0099 - accuracy: 0.9973 - val_loss: 0.0478 - val_accuracy: 0.9905\n",
            "Epoch 5/40\n",
            "1422/1422 [==============================] - 57s 40ms/step - loss: 0.0074 - accuracy: 0.9977 - val_loss: 0.0171 - val_accuracy: 0.9971\n",
            "Epoch 6/40\n",
            "1422/1422 [==============================] - 57s 40ms/step - loss: 0.0077 - accuracy: 0.9977 - val_loss: 0.0506 - val_accuracy: 0.9914\n",
            "Epoch 7/40\n",
            "1422/1422 [==============================] - 57s 40ms/step - loss: 0.0087 - accuracy: 0.9980 - val_loss: 0.0399 - val_accuracy: 0.9935\n",
            "Epoch 8/40\n",
            "1422/1422 [==============================] - 57s 40ms/step - loss: 0.0046 - accuracy: 0.9985 - val_loss: 0.1584 - val_accuracy: 0.9808\n",
            "Epoch 9/40\n",
            "1422/1422 [==============================] - 57s 40ms/step - loss: 0.0086 - accuracy: 0.9978 - val_loss: 0.2248 - val_accuracy: 0.9703\n",
            "Epoch 10/40\n",
            "1422/1422 [==============================] - 57s 40ms/step - loss: 0.0072 - accuracy: 0.9976 - val_loss: 0.0341 - val_accuracy: 0.9946\n",
            "Epoch 11/40\n",
            "1422/1422 [==============================] - 56s 40ms/step - loss: 0.0051 - accuracy: 0.9987 - val_loss: 0.0243 - val_accuracy: 0.9949\n",
            "Epoch 12/40\n",
            "1422/1422 [==============================] - 57s 40ms/step - loss: 0.0069 - accuracy: 0.9980 - val_loss: 0.0681 - val_accuracy: 0.9903\n"
          ],
          "name": "stdout"
        },
        {
          "output_type": "execute_result",
          "data": {
            "text/plain": [
              "<keras.callbacks.History at 0x7fc0bc030350>"
            ]
          },
          "metadata": {
            "tags": []
          },
          "execution_count": 20
        }
      ]
    },
    {
      "cell_type": "code",
      "metadata": {
        "colab": {
          "base_uri": "https://localhost:8080/",
          "height": 419
        },
        "id": "Y8iuID7EbEnX",
        "outputId": "d3502a10-0b11-4dea-8428-dd963fe3dd2b"
      },
      "source": [
        "import pandas as pd\n",
        "metrics = pd.DataFrame(model.history.history)\n",
        "print(\"The model metrics are\")\n",
        "metrics"
      ],
      "execution_count": null,
      "outputs": [
        {
          "output_type": "stream",
          "text": [
            "The model metrics are\n"
          ],
          "name": "stdout"
        },
        {
          "output_type": "execute_result",
          "data": {
            "text/html": [
              "<div>\n",
              "<style scoped>\n",
              "    .dataframe tbody tr th:only-of-type {\n",
              "        vertical-align: middle;\n",
              "    }\n",
              "\n",
              "    .dataframe tbody tr th {\n",
              "        vertical-align: top;\n",
              "    }\n",
              "\n",
              "    .dataframe thead th {\n",
              "        text-align: right;\n",
              "    }\n",
              "</style>\n",
              "<table border=\"1\" class=\"dataframe\">\n",
              "  <thead>\n",
              "    <tr style=\"text-align: right;\">\n",
              "      <th></th>\n",
              "      <th>loss</th>\n",
              "      <th>accuracy</th>\n",
              "      <th>val_loss</th>\n",
              "      <th>val_accuracy</th>\n",
              "    </tr>\n",
              "  </thead>\n",
              "  <tbody>\n",
              "    <tr>\n",
              "      <th>0</th>\n",
              "      <td>0.010756</td>\n",
              "      <td>0.996835</td>\n",
              "      <td>0.142157</td>\n",
              "      <td>0.988923</td>\n",
              "    </tr>\n",
              "    <tr>\n",
              "      <th>1</th>\n",
              "      <td>0.008905</td>\n",
              "      <td>0.997670</td>\n",
              "      <td>0.122972</td>\n",
              "      <td>0.984923</td>\n",
              "    </tr>\n",
              "    <tr>\n",
              "      <th>2</th>\n",
              "      <td>0.009072</td>\n",
              "      <td>0.997385</td>\n",
              "      <td>0.095004</td>\n",
              "      <td>0.983231</td>\n",
              "    </tr>\n",
              "    <tr>\n",
              "      <th>3</th>\n",
              "      <td>0.009949</td>\n",
              "      <td>0.997253</td>\n",
              "      <td>0.047847</td>\n",
              "      <td>0.990462</td>\n",
              "    </tr>\n",
              "    <tr>\n",
              "      <th>4</th>\n",
              "      <td>0.007403</td>\n",
              "      <td>0.997736</td>\n",
              "      <td>0.017129</td>\n",
              "      <td>0.997077</td>\n",
              "    </tr>\n",
              "    <tr>\n",
              "      <th>5</th>\n",
              "      <td>0.007650</td>\n",
              "      <td>0.997670</td>\n",
              "      <td>0.050597</td>\n",
              "      <td>0.991385</td>\n",
              "    </tr>\n",
              "    <tr>\n",
              "      <th>6</th>\n",
              "      <td>0.008711</td>\n",
              "      <td>0.997956</td>\n",
              "      <td>0.039920</td>\n",
              "      <td>0.993538</td>\n",
              "    </tr>\n",
              "    <tr>\n",
              "      <th>7</th>\n",
              "      <td>0.004576</td>\n",
              "      <td>0.998527</td>\n",
              "      <td>0.158376</td>\n",
              "      <td>0.980769</td>\n",
              "    </tr>\n",
              "    <tr>\n",
              "      <th>8</th>\n",
              "      <td>0.008641</td>\n",
              "      <td>0.997802</td>\n",
              "      <td>0.224798</td>\n",
              "      <td>0.970308</td>\n",
              "    </tr>\n",
              "    <tr>\n",
              "      <th>9</th>\n",
              "      <td>0.007249</td>\n",
              "      <td>0.997626</td>\n",
              "      <td>0.034133</td>\n",
              "      <td>0.994615</td>\n",
              "    </tr>\n",
              "    <tr>\n",
              "      <th>10</th>\n",
              "      <td>0.005083</td>\n",
              "      <td>0.998703</td>\n",
              "      <td>0.024270</td>\n",
              "      <td>0.994923</td>\n",
              "    </tr>\n",
              "    <tr>\n",
              "      <th>11</th>\n",
              "      <td>0.006870</td>\n",
              "      <td>0.998044</td>\n",
              "      <td>0.068081</td>\n",
              "      <td>0.990308</td>\n",
              "    </tr>\n",
              "  </tbody>\n",
              "</table>\n",
              "</div>"
            ],
            "text/plain": [
              "        loss  accuracy  val_loss  val_accuracy\n",
              "0   0.010756  0.996835  0.142157      0.988923\n",
              "1   0.008905  0.997670  0.122972      0.984923\n",
              "2   0.009072  0.997385  0.095004      0.983231\n",
              "3   0.009949  0.997253  0.047847      0.990462\n",
              "4   0.007403  0.997736  0.017129      0.997077\n",
              "5   0.007650  0.997670  0.050597      0.991385\n",
              "6   0.008711  0.997956  0.039920      0.993538\n",
              "7   0.004576  0.998527  0.158376      0.980769\n",
              "8   0.008641  0.997802  0.224798      0.970308\n",
              "9   0.007249  0.997626  0.034133      0.994615\n",
              "10  0.005083  0.998703  0.024270      0.994923\n",
              "11  0.006870  0.998044  0.068081      0.990308"
            ]
          },
          "metadata": {
            "tags": []
          },
          "execution_count": 21
        }
      ]
    },
    {
      "cell_type": "code",
      "metadata": {
        "colab": {
          "base_uri": "https://localhost:8080/",
          "height": 265
        },
        "id": "rx0SrPsgeK2V",
        "outputId": "00ef5049-8772-4430-cc0a-d7cf38f98ac4"
      },
      "source": [
        "metrics[['loss','val_loss']].plot()\n",
        "plt.show()"
      ],
      "execution_count": null,
      "outputs": [
        {
          "output_type": "display_data",
          "data": {
            "image/png": "[encoded data removed]",
            "text/plain": [
              "<Figure size 432x288 with 1 Axes>"
            ]
          },
          "metadata": {
            "tags": [],
            "needs_background": "light"
          }
        }
      ]
    },
    {
      "cell_type": "code",
      "metadata": {
        "colab": {
          "base_uri": "https://localhost:8080/",
          "height": 268
        },
        "id": "rV5OwvcYeK5V",
        "outputId": "484e7dd1-f378-4fb3-9da1-c3e83b3e82a5"
      },
      "source": [
        "metrics[['accuracy','val_accuracy']].plot()\n",
        "plt.show()"
      ],
      "execution_count": null,
      "outputs": [
        {
          "output_type": "display_data",
          "data": {
            "image/png": "[encoded data removed]",
            "text/plain": [
              "<Figure size 432x288 with 1 Axes>"
            ]
          },
          "metadata": {
            "tags": [],
            "needs_background": "light"
          }
        }
      ]
    },
    {
      "cell_type": "code",
      "metadata": {
        "id": "-JRIZtUdQ5Lu"
      },
      "source": [
        "model.save('/content/drive/MyDrive/Jcomp/Finalmodel.h5')"
      ],
      "execution_count": null,
      "outputs": []
    },
    {
      "cell_type": "code",
      "metadata": {
        "colab": {
          "base_uri": "https://localhost:8080/"
        },
        "id": "2VlF_U8_eK8Y",
        "outputId": "15dad0c3-2fc1-45c5-c373-3812c34c01fe"
      },
      "source": [
        ""
      ],
      "execution_count": null,
      "outputs": [
        {
          "output_type": "stream",
          "text": [
            "/usr/local/lib/python3.7/dist-packages/keras/engine/sequential.py:450: UserWarning: `model.predict_classes()` is deprecated and will be removed after 2021-01-01. Please use instead:* `np.argmax(model.predict(x), axis=-1)`,   if your model does multi-class classification   (e.g. if it uses a `softmax` last-layer activation).* `(model.predict(x) > 0.5).astype(\"int32\")`,   if your model does binary classification   (e.g. if it uses a `sigmoid` last-layer activation).\n",
            "  warnings.warn('`model.predict_classes()` is deprecated and '\n"
          ],
          "name": "stderr"
        }
      ]
    },
    {
      "cell_type": "code",
      "metadata": {
        "colab": {
          "base_uri": "https://localhost:8080/"
        },
        "id": "knaxjWvTsWou",
        "outputId": "76581113-be3d-4881-fb5c-52435d82c789"
      },
      "source": [
        ""
      ],
      "execution_count": null,
      "outputs": [
        {
          "output_type": "execute_result",
          "data": {
            "text/plain": [
              "6500"
            ]
          },
          "metadata": {
            "tags": []
          },
          "execution_count": 29
        }
      ]
    },
    {
      "cell_type": "code",
      "metadata": {
        "id": "c4zPDO4wbEkG"
      },
      "source": [
        "#from keras.models import load_model\n",
        "#model1 = load_model(\"/content/drive/MyDrive/Jcomp/Finalmodel.h5\")"
      ],
      "execution_count": null,
      "outputs": []
    }
  ]
}